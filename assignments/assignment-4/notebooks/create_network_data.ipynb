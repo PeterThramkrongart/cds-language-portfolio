{
 "cells": [
  {
   "cell_type": "markdown",
   "metadata": {},
   "source": [
    "# Assignment 4 - Network analysis\n",
    "\n",
    "### Peter Thramkrongart & Jakub Raszka\n",
    "\n",
    "## Creating data for network analysis\n"
   ]
  },
  {
   "cell_type": "markdown",
   "metadata": {},
   "source": [
    "__Packages__"
   ]
  },
  {
   "cell_type": "code",
   "execution_count": 45,
   "metadata": {},
   "outputs": [],
   "source": [
    "import os # system tools\n",
    "from csv import reader\n",
    "import pandas as pd\n",
    "from tqdm import tqdm #progression bar\n",
    "import spacy\n",
    "nlp = spacy.load(\"en_core_web_sm\")\n",
    "\n",
    "from itertools import combinations\n",
    "from collections import Counter\n"
   ]
  },
  {
   "cell_type": "markdown",
   "metadata": {},
   "source": [
    "__Creating csv. df__\n"
   ]
  },
  {
   "cell_type": "code",
   "execution_count": 46,
   "metadata": {},
   "outputs": [],
   "source": [
    "input_file = os.path.join(\"..\", \"data\", \"raw\", \"fake_or_real_news.csv\")\n",
    "data = pd.read_csv(input_file)\n",
    "real_df = data[data[\"label\"] == \"REAL\"][\"text\"]\n"
   ]
  },
  {
   "cell_type": "raw",
   "metadata": {},
   "source": [
    "    #tmp_list = []\n",
    "    # for every named entity in the doc\n",
    "    #for entity in doc.ents:\n",
    "       # if entity.label_ == \"PERSON\":\n",
    "         #   tmp_list.append(entity.text)"
   ]
  },
  {
   "cell_type": "code",
   "execution_count": 74,
   "metadata": {},
   "outputs": [
    {
     "name": "stderr",
     "output_type": "stream",
     "text": [
      "11it [00:21,  1.99s/it]\n"
     ]
    }
   ],
   "source": [
    "post_entities = []\n",
    "for doc in tqdm(nlp.pipe(real_df.values[4:15], n_process = -1)):\n",
    "    # Do something with the doc here\n",
    "    tmp_list = []\n",
    "    for ent in doc.ents:\n",
    "        if ent.label_ == \"PERSON\":\n",
    "            tmp_list.append(ent.text)\n",
    "    post_entities.append(tmp_list)"
   ]
  },
  {
   "cell_type": "code",
   "execution_count": null,
   "metadata": {},
   "outputs": [],
   "source": [
    "edgelist = []\n",
    "\n",
    "# iterate over every document\n",
    "for doc in post_entities:\n",
    "    # use combinations to create edgelist\n",
    "    edges = list(combinations(doc, 2))\n",
    "    # for each combination - e.g., each pair of \"nodes\"\n",
    "    for edge in edges:\n",
    "        # append this to final edgelist\n",
    "        edgelist.append(tuple(sorted(edge)))"
   ]
  },
  {
   "cell_type": "code",
   "execution_count": null,
   "metadata": {},
   "outputs": [],
   "source": [
    "counted_edges = []\n",
    "\n",
    "for pair, weight in Counter(edgelist).items():\n",
    "    nodeA = pair[0]\n",
    "    nodeB = pair[1]\n",
    "    counted_edges.append((nodeA, nodeB, weight))"
   ]
  },
  {
   "cell_type": "code",
   "execution_count": null,
   "metadata": {},
   "outputs": [],
   "source": [
    "edge_df = pd.DataFrame(counted_edges, columns = [\"nodeA\", \"nodeB\", \"weight\"])\n",
    "edge_df.to_csv(os.path.join(\"..\", \"data\", \"assignment4\", \"edges_df.csv\"))"
   ]
  }
 ],
 "metadata": {
  "kernelspec": {
   "display_name": "network_visualization_venv",
   "language": "python",
   "name": "network_visualization_venv"
  },
  "language_info": {
   "codemirror_mode": {
    "name": "ipython",
    "version": 3
   },
   "file_extension": ".py",
   "mimetype": "text/x-python",
   "name": "python",
   "nbconvert_exporter": "python",
   "pygments_lexer": "ipython3",
   "version": "3.6.13"
  }
 },
 "nbformat": 4,
 "nbformat_minor": 4
}
