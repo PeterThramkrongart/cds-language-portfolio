{
 "cells": [
  {
   "cell_type": "markdown",
   "metadata": {},
   "source": [
    "# Assignment 4 - Network analysis\n",
    "\n",
    "### Peter Thramkrongart & Jakub Raszka\n",
    "\n",
    "## Creating reusable network analysis pipeline\n",
    "\n",
    "\n",
    "\n",
    "\n",
    "\n",
    "https://github.com/CDS-AU-DK/cds-language/blob/main/notebooks/session6.ipynb\n",
    "\n",
    "\n",
    "Your script should be able to be run from the command line\n",
    "It should take any weighted edgelist as an input, providing that edgelist is saved as a CSV with the column headers \"nodeA\", \"nodeB\"\n",
    "For any given weighted edgelist given as an input, your script should be used to create a network visualization, which will be saved in a folder called viz.\n",
    "It should also create a data frame showing the degree, betweenness, and eigenvector centrality for each node. It should save this as a CSV in a folder called output.\n",
    "\n",
    "\n",
    "__Tips__\n",
    "\n",
    "You should use argparse() in the Python standard library\n",
    "Your code should contain a main() function\n",
    "Don't worry too much about efficiency - networkx is really slow, there's no way around i!\n",
    "If you have issues with pygraphviz, just use the built-in matplotlib functions in networkx.\n",
    "You may want to create an argument for the user to define a cut-off point to filter data. E.g. only include node pairs with more than a certain edge weight.\n",
    "Make sure to use all of the Python scripting skills you've learned so far, including in the workshops with Kristoffer Nielbo\n",
    "\n",
    "\n",
    "__Bonus challenges__\n",
    "\n",
    "Attempt to implement coreference resolution on entities (time-consuming)\n",
    "Bundle your code up into a Python class, focusing on code modularity\n",
    "Let the user define which graphing algorithm they use (pretty tricky)\n",
    "Are there other ways of creating networks, rather than just document co-occurrence? (really tricky)\n",
    "\n",
    "\n",
    "__General instructions__\n",
    "\n",
    "For this assignment, you should upload a standalone .py script which can be executed from the command line\n",
    "Save your script as network.py\n",
    "You must include a requirements.txt file and a bash script to set up a virtual environment for the project. You can use those on worker02 as a template\n",
    "You can either upload the scripts here or push to GitHub and include a link - or both!\n",
    "Your code should be clearly documented in a way that allows others to easily follow the structure of your script and to use them from the command line\n",
    "\n",
    "\n",
    "__Purpose__\n",
    "\n",
    "This assignment is designed to test that you have an understanding of:\n",
    "\n",
    "how to create command-line tools with Python;\n",
    "how to perform network analysis using networkx;\n",
    "how to create resuable and reproducible pipelines for data analysis."
   ]
  },
  {
   "cell_type": "markdown",
   "metadata": {},
   "source": [
    "__Packages__"
   ]
  },
  {
   "cell_type": "code",
   "execution_count": 231,
   "metadata": {},
   "outputs": [],
   "source": [
    "import os # system tools\n",
    "from csv import reader\n",
    "import pandas as pd\n",
    "from tqdm import tqdm #progression bar\n",
    "import spacy\n",
    "nlp = spacy.load(\"en_core_web_sm\")\n",
    "\n",
    "from itertools import combinations\n",
    "from collections import Counter\n",
    "\n",
    "import networkx as nx\n",
    "import matplotlib.pyplot as plt"
   ]
  },
  {
   "cell_type": "markdown",
   "metadata": {},
   "source": [
    "__Creating csv. df__\n"
   ]
  },
  {
   "cell_type": "code",
   "execution_count": 2,
   "metadata": {},
   "outputs": [],
   "source": [
    "input_file = os.path.join(\"..\", \"data\", \"labelled_data\", \"fake_or_real_news.csv\")\n",
    "data = pd.read_csv(input_file)\n",
    "real_df = data[data[\"label\"] == \"REAL\"][\"text\"]"
   ]
  },
  {
   "cell_type": "code",
   "execution_count": 3,
   "metadata": {},
   "outputs": [
    {
     "name": "stderr",
     "output_type": "stream",
     "text": [
      "100%|██████████| 3171/3171 [08:15<00:00,  6.40it/s]\n"
     ]
    }
   ],
   "source": [
    "post_entities = []\n",
    "\n",
    "for post in tqdm(real_df):\n",
    "    # create a temporary list\n",
    "    tmp_list = []\n",
    "    #crate spaCy object\n",
    "    doc = nlp(post)\n",
    "    # for every named entity in the doc\n",
    "    for entity in doc.ents:\n",
    "        if entity.label_ == \"PERSON\":\n",
    "            tmp_list.append(entity.text)\n",
    "    # add tmp_list to main list\n",
    "    post_entities.append(tmp_list)\n",
    "    \n",
    "    "
   ]
  },
  {
   "cell_type": "code",
   "execution_count": 5,
   "metadata": {},
   "outputs": [],
   "source": [
    "edgelist = []\n",
    "\n",
    "# iterate over every document\n",
    "for doc in post_entities:\n",
    "    # use combinations to create edgelist\n",
    "    edges = list(combinations(doc, 2))\n",
    "    # for each combination - e.g., each pair of \"nodes\"\n",
    "    for edge in edges:\n",
    "        # append this to final edgelist\n",
    "        edgelist.append(tuple(sorted(edge)))"
   ]
  },
  {
   "cell_type": "code",
   "execution_count": 215,
   "metadata": {},
   "outputs": [
    {
     "data": {
      "text/plain": [
       "[('John F. Kerry', 'Laurent Fabius'),\n",
       " ('Francois Hollande', 'John F. Kerry'),\n",
       " ('John F. Kerry', 'Kerry'),\n",
       " ('John F. Kerry', 'Obama'),\n",
       " ('John F. Kerry', 'Kerry'),\n",
       " ('John F. Kerry', 'Kerry'),\n",
       " ('Benjamin Netanyahu', 'John F. Kerry'),\n",
       " ('Jane Hartley', 'John F. Kerry'),\n",
       " ('John F. Kerry', 'Victoria Nuland'),\n",
       " ('Eric H. Holder Jr.', 'John F. Kerry')]"
      ]
     },
     "execution_count": 215,
     "metadata": {},
     "output_type": "execute_result"
    }
   ],
   "source": [
    "edgelist[:10]\n",
    "\n"
   ]
  },
  {
   "cell_type": "code",
   "execution_count": 214,
   "metadata": {},
   "outputs": [],
   "source": [
    "counted_edges = []\n",
    "\n",
    "for pair, weight in Counter(edgelist).items():\n",
    "    nodeA = pair[0]\n",
    "    nodeB = pair[1]\n",
    "    counted_edges.append((nodeA, nodeB, weight))"
   ]
  },
  {
   "cell_type": "code",
   "execution_count": 216,
   "metadata": {},
   "outputs": [
    {
     "data": {
      "text/plain": [
       "[('John F. Kerry', 'Laurent Fabius', 2),\n",
       " ('Francois Hollande', 'John F. Kerry', 1),\n",
       " ('John F. Kerry', 'Kerry', 19),\n",
       " ('John F. Kerry', 'Obama', 26),\n",
       " ('Benjamin Netanyahu', 'John F. Kerry', 7),\n",
       " ('Jane Hartley', 'John F. Kerry', 1),\n",
       " ('John F. Kerry', 'Victoria Nuland', 1),\n",
       " ('Eric H. Holder Jr.', 'John F. Kerry', 1),\n",
       " ('John F. Kerry', 'Narendra Modi', 1),\n",
       " ('Francois Hollande', 'Laurent Fabius', 1)]"
      ]
     },
     "execution_count": 216,
     "metadata": {},
     "output_type": "execute_result"
    }
   ],
   "source": [
    "counted_edges[:10]"
   ]
  },
  {
   "cell_type": "code",
   "execution_count": 218,
   "metadata": {},
   "outputs": [],
   "source": [
    "edge_df = pd.DataFrame(counted_edges, columns = [\"nodeA\", \"nodeB\", \"weight\"])\n",
    "edge_df.to_csv(os.path.join(\"..\", \"data\", \"assignment4\", \"edges_df.csv\"))"
   ]
  },
  {
   "cell_type": "code",
   "execution_count": null,
   "metadata": {},
   "outputs": [],
   "source": []
  },
  {
   "cell_type": "code",
   "execution_count": null,
   "metadata": {},
   "outputs": [],
   "source": []
  },
  {
   "cell_type": "code",
   "execution_count": null,
   "metadata": {},
   "outputs": [],
   "source": []
  },
  {
   "cell_type": "code",
   "execution_count": 11,
   "metadata": {},
   "outputs": [],
   "source": [
    "edges_df = pd.DataFrame(counted_edges, columns = [\"nodeA\", \"nodeB\", \"weight\"])"
   ]
  },
  {
   "cell_type": "code",
   "execution_count": null,
   "metadata": {},
   "outputs": [],
   "source": []
  },
  {
   "cell_type": "code",
   "execution_count": 13,
   "metadata": {},
   "outputs": [],
   "source": [
    "pd.DataFrame.to_csv(edges_df, os.path.join(\"..\", \"data\", \"assignment4\", \"edges_df.csv\"))"
   ]
  },
  {
   "cell_type": "code",
   "execution_count": 229,
   "metadata": {},
   "outputs": [],
   "source": [
    "def main(input_file = os.path.join(\"..\", \"data\", \"assignment4\", \"edges_df.csv\"), \n",
    "         output_file = os.path.join(\"..\", \"data\", \"assignment4\", \"output\", \"measures_of_centrality.csv\"),\n",
    "         threshold = 500, \n",
    "         graph_labels = False,\n",
    "         plot = True,\n",
    "         plot_file= os.path.join(\"..\", \"data\", \"assignment4\", \"viz\",\"network_visualization.png\")):\n",
    "    \n",
    "    data = pd.read_csv(input_file)\n",
    "    print(f\"{input_file} has succesfully been read\")\n",
    "    \n",
    "    \n",
    "    # filtering based on the set threshold\n",
    "    filtered_df= data[data[\"weight\"] > threshold]\n",
    "    \n",
    "    \n",
    "    # calculating G\n",
    "    G = nx.from_pandas_edgelist(filtered_df, \"nodeA\", \"nodeB\", [\"weight\"])\n",
    "    \n",
    "    if plot == True:  \n",
    "        # plot it\n",
    "        pos = nx.nx_agraph.graphviz_layout(G, prog = \"neato\")\n",
    "\n",
    "\n",
    "        # draw, use matplot lib draw...\n",
    "        nx.draw(G, pos, with_labels = graph_labels, node_size = 20, font_size = 10)\n",
    "        plt.savefig(plot_file, dpi=300, bbox_inches=\"tight\")\n",
    "        print(f\"{plot_file} has succesfully been saved\")\n",
    "    \n",
    "    \n",
    "\n",
    "    # filtered_df.head()\n",
    "    centrality_df = pd.DataFrame()\n",
    "    \n",
    "    # degree centrality\n",
    "    deg = nx.degree_centrality(G)\n",
    " \n",
    "    # eigenvector\n",
    "    ev = nx.eigenvector_centrality(G)\n",
    "\n",
    "    # betweenness\n",
    "    bc = nx.betweenness_centrality(G)\n",
    "    \n",
    "    centrality_df= {\"node\":deg.keys(),\"degree\":deg.values(),\"betweenness\":bc.values(),\"eigenvector\":ev.values()}\n",
    "    centrality_df= pd.DataFrame(data =centrality_df)\n",
    "    \n",
    "    \n",
    "    centrality_df.to_csv(output_file)\n",
    "    print(f\"{output_file} has succesfully been saved\")\n",
    "    "
   ]
  },
  {
   "cell_type": "code",
   "execution_count": 230,
   "metadata": {},
   "outputs": [
    {
     "name": "stdout",
     "output_type": "stream",
     "text": [
      "../data/assignment4/edges_df.csv has succesfully been read\n",
      "../data/assignment4/viz/network_visualization.png has succesfully been saved\n",
      "../data/assignment4/output/measures_of_centrality.csv has succesfully been saved\n"
     ]
    },
    {
     "data": {
      "image/png": "[encoded data removed]",
      "text/plain": [
       "<Figure size 432x288 with 1 Axes>"
      ]
     },
     "metadata": {},
     "output_type": "display_data"
    }
   ],
   "source": [
    "main()"
   ]
  },
  {
   "cell_type": "code",
   "execution_count": 41,
   "metadata": {},
   "outputs": [],
   "source": [
    "def hello(**kwargs):\n",
    "    print(\"hello\")\n",
    "    print(kwargs)"
   ]
  },
  {
   "cell_type": "code",
   "execution_count": 160,
   "metadata": {},
   "outputs": [
    {
     "name": "stdout",
     "output_type": "stream",
     "text": [
      "                     nodeA           nodeB\n",
      "0            John F. Kerry  Laurent Fabius\n",
      "1        Francois Hollande   John F. Kerry\n",
      "2            John F. Kerry           Kerry\n",
      "3            John F. Kerry           Obama\n",
      "4            John F. Kerry           Kerry\n",
      "...                    ...             ...\n",
      "1290243      Fergus Cullen      Jeb Bush's\n",
      "1290244               Bush   Fergus Cullen\n",
      "1290245       Donald Trump      Jeb Bush's\n",
      "1290246               Bush    Donald Trump\n",
      "1290247               Bush      Jeb Bush's\n",
      "\n",
      "[1290248 rows x 2 columns]\n"
     ]
    }
   ],
   "source": [
    "print(edge_df)"
   ]
  },
  {
   "cell_type": "code",
   "execution_count": null,
   "metadata": {},
   "outputs": [],
   "source": []
  }
 ],
 "metadata": {
  "kernelspec": {
   "display_name": "lang101_clean",
   "language": "python",
   "name": "lang101_clean"
  },
  "language_info": {
   "codemirror_mode": {
    "name": "ipython",
    "version": 3
   },
   "file_extension": ".py",
   "mimetype": "text/x-python",
   "name": "python",
   "nbconvert_exporter": "python",
   "pygments_lexer": "ipython3",
   "version": "3.6.9"
  }
 },
 "nbformat": 4,
 "nbformat_minor": 4
}
